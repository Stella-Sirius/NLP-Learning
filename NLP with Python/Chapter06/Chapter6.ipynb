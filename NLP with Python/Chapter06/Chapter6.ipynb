{
 "cells": [
  {
   "cell_type": "markdown",
   "metadata": {},
   "source": [
    "# Learning to Classify Text #\n",
    "\n",
    "https://www.nltk.org/book/ch06.html"
   ]
  },
  {
   "cell_type": "markdown",
   "metadata": {},
   "source": [
    "## Supervised Classification ##"
   ]
  },
  {
   "cell_type": "markdown",
   "metadata": {},
   "source": [
    "##  Further Examples of Supervised Classification ##"
   ]
  },
  {
   "cell_type": "markdown",
   "metadata": {},
   "source": [
    "## Evaluation ##"
   ]
  },
  {
   "cell_type": "markdown",
   "metadata": {},
   "source": [
    "## Decision Trees ##"
   ]
  },
  {
   "cell_type": "markdown",
   "metadata": {},
   "source": [
    "## Naive Bayes Classifiers ##"
   ]
  },
  {
   "cell_type": "markdown",
   "metadata": {},
   "source": [
    "## Maximum Entropy Classifiers ##"
   ]
  },
  {
   "cell_type": "code",
   "execution_count": 2,
   "metadata": {},
   "outputs": [
    {
     "data": {
      "text/plain": [
       "{'last_letter': 'k'}"
      ]
     },
     "execution_count": 2,
     "metadata": {},
     "output_type": "execute_result"
    }
   ],
   "source": [
    "def gender_features(word):\n",
    "    return {'last_letter': word[-1]}\n",
    "\n",
    "gender_features('Shrek')"
   ]
  },
  {
   "cell_type": "code",
   "execution_count": 3,
   "metadata": {},
   "outputs": [],
   "source": [
    "from nltk.corpus import names\n",
    "labeled_names = ([(name, 'male') for name in names.words('male.txt')] + [(name, 'female') for name in names.words('female.txt')])\n",
    "import random\n",
    "random.shuffle(labeled_names)"
   ]
  },
  {
   "cell_type": "code",
   "execution_count": 5,
   "metadata": {},
   "outputs": [],
   "source": [
    "import nltk\n",
    "featuresets = [(gender_features(n), gender) for (n, gender) in labeled_names]\n",
    "train_set, test_set = featuresets[500:], featuresets[:500]\n",
    "classifier = nltk.NaiveBayesClassifier.train(train_set)"
   ]
  },
  {
   "cell_type": "code",
   "execution_count": 6,
   "metadata": {},
   "outputs": [
    {
     "data": {
      "text/plain": [
       "'male'"
      ]
     },
     "execution_count": 6,
     "metadata": {},
     "output_type": "execute_result"
    }
   ],
   "source": [
    "classifier.classify(gender_features('Neo'))"
   ]
  },
  {
   "cell_type": "code",
   "execution_count": 7,
   "metadata": {},
   "outputs": [
    {
     "data": {
      "text/plain": [
       "'female'"
      ]
     },
     "execution_count": 7,
     "metadata": {},
     "output_type": "execute_result"
    }
   ],
   "source": [
    "classifier.classify(gender_features('Trinity'))"
   ]
  },
  {
   "cell_type": "code",
   "execution_count": 8,
   "metadata": {},
   "outputs": [
    {
     "name": "stdout",
     "output_type": "stream",
     "text": [
      "0.772\n"
     ]
    }
   ],
   "source": [
    "print(nltk.classify.accuracy(classifier, test_set))"
   ]
  },
  {
   "cell_type": "code",
   "execution_count": 9,
   "metadata": {},
   "outputs": [
    {
     "name": "stdout",
     "output_type": "stream",
     "text": [
      "Most Informative Features\n",
      "             last_letter = 'a'            female : male   =     33.3 : 1.0\n",
      "             last_letter = 'k'              male : female =     32.2 : 1.0\n",
      "             last_letter = 'f'              male : female =     27.7 : 1.0\n",
      "             last_letter = 'p'              male : female =     11.9 : 1.0\n",
      "             last_letter = 'v'              male : female =     11.2 : 1.0\n"
     ]
    }
   ],
   "source": [
    "classifier.show_most_informative_features(5)"
   ]
  },
  {
   "cell_type": "code",
   "execution_count": 10,
   "metadata": {},
   "outputs": [],
   "source": [
    "from nltk.classify import apply_features\n",
    "train_set = apply_features(gender_features, labeled_names[500:])\n",
    "test_set = apply_features(gender_features, labeled_names[:500])"
   ]
  },
  {
   "cell_type": "code",
   "execution_count": 11,
   "metadata": {},
   "outputs": [],
   "source": [
    "def gender_features2(name):\n",
    "    features = {}\n",
    "    features[\"first_letter\"] = name[0].lower()\n",
    "    features[\"last_letter\"] = name[-1].lower()\n",
    "    for letter in 'abcdefghijklmnopqrstuvwxyz':\n",
    "        features[\"count({})\".format(letter)] = name.lower().count(letter)\n",
    "        features[\"has({})\".format(letter)] = (letter in name.lower())\n",
    "    return features"
   ]
  },
  {
   "cell_type": "code",
   "execution_count": 12,
   "metadata": {},
   "outputs": [
    {
     "name": "stdout",
     "output_type": "stream",
     "text": [
      "0.778\n"
     ]
    }
   ],
   "source": [
    "featuresets = [(gender_features2(n), gender) for (n, gender) in labeled_names]\n",
    "train_set, test_set = featuresets[500:], featuresets[:500]\n",
    "classifier = nltk.NaiveBayesClassifier.train(train_set)\n",
    "print(nltk.classify.accuracy(classifier, test_set))"
   ]
  },
  {
   "cell_type": "code",
   "execution_count": 13,
   "metadata": {},
   "outputs": [],
   "source": [
    "train_names = labeled_names[1500:]\n",
    "devtest_names = labeled_names[500:1500]\n",
    "test_names = labeled_names[:500]"
   ]
  },
  {
   "cell_type": "code",
   "execution_count": 14,
   "metadata": {},
   "outputs": [
    {
     "name": "stdout",
     "output_type": "stream",
     "text": [
      "0.748\n"
     ]
    }
   ],
   "source": [
    "train_set = [(gender_features(n), gender) for (n, gender) in train_names]\n",
    "devtest_set = [(gender_features(n), gender) for (n, gender) in devtest_names]\n",
    "test_set = [(gender_features(n), gender) for (n, gender) in test_names]\n",
    "classifier = nltk.NaiveBayesClassifier.train(train_set) \n",
    "print(nltk.classify.accuracy(classifier, devtest_set))"
   ]
  },
  {
   "cell_type": "code",
   "execution_count": 15,
   "metadata": {},
   "outputs": [],
   "source": [
    "errors = []\n",
    "for (name, tag) in devtest_names:\n",
    "    guess = classifier.classify(gender_features(name))\n",
    "    if guess != tag:\n",
    "        errors.append( (tag, guess, name) )"
   ]
  },
  {
   "cell_type": "code",
   "execution_count": 16,
   "metadata": {},
   "outputs": [
    {
     "name": "stdout",
     "output_type": "stream",
     "text": [
      "correct=female   guess=male     name=Addis                         \n",
      "correct=female   guess=male     name=Adrian                        \n",
      "correct=female   guess=male     name=Adrien                        \n",
      "correct=female   guess=male     name=Aileen                        \n",
      "correct=female   guess=male     name=Alisun                        \n",
      "correct=female   guess=male     name=Allison                       \n",
      "correct=female   guess=male     name=Ardys                         \n",
      "correct=female   guess=male     name=Arlen                         \n",
      "correct=female   guess=male     name=Ashlen                        \n",
      "correct=female   guess=male     name=Beatriz                       \n",
      "correct=female   guess=male     name=Beitris                       \n",
      "correct=female   guess=male     name=Birgit                        \n",
      "correct=female   guess=male     name=Britt                         \n",
      "correct=female   guess=male     name=Brooks                        \n",
      "correct=female   guess=male     name=Calypso                       \n",
      "correct=female   guess=male     name=Carleen                       \n",
      "correct=female   guess=male     name=Caryn                         \n",
      "correct=female   guess=male     name=Cathleen                      \n",
      "correct=female   guess=male     name=Charleen                      \n",
      "correct=female   guess=male     name=Cher                          \n",
      "correct=female   guess=male     name=Christian                     \n",
      "correct=female   guess=male     name=Clair                         \n",
      "correct=female   guess=male     name=Clo                           \n",
      "correct=female   guess=male     name=Colleen                       \n",
      "correct=female   guess=male     name=Cris                          \n",
      "correct=female   guess=male     name=Cristen                       \n",
      "correct=female   guess=male     name=Demeter                       \n",
      "correct=female   guess=male     name=Diahann                       \n",
      "correct=female   guess=male     name=Diamond                       \n",
      "correct=female   guess=male     name=Eleanor                       \n",
      "correct=female   guess=male     name=Ellen                         \n",
      "correct=female   guess=male     name=Ellyn                         \n",
      "correct=female   guess=male     name=Ellynn                        \n",
      "correct=female   guess=male     name=Emmalyn                       \n",
      "correct=female   guess=male     name=Fawn                          \n",
      "correct=female   guess=male     name=Flo                           \n",
      "correct=female   guess=male     name=Gayleen                       \n",
      "correct=female   guess=male     name=Hannis                        \n",
      "correct=female   guess=male     name=Honor                         \n",
      "correct=female   guess=male     name=Ingaberg                      \n",
      "correct=female   guess=male     name=Jacklyn                       \n",
      "correct=female   guess=male     name=Jackquelin                    \n",
      "correct=female   guess=male     name=Jan                           \n",
      "correct=female   guess=male     name=Jaquelin                      \n",
      "correct=female   guess=male     name=Jaquelyn                      \n",
      "correct=female   guess=male     name=Jasmin                        \n",
      "correct=female   guess=male     name=Jennifer                      \n",
      "correct=female   guess=male     name=Jocelin                       \n",
      "correct=female   guess=male     name=Jolyn                         \n",
      "correct=female   guess=male     name=Joselyn                       \n",
      "correct=female   guess=male     name=Kaitlynn                      \n",
      "correct=female   guess=male     name=Karen                         \n",
      "correct=female   guess=male     name=Karon                         \n",
      "correct=female   guess=male     name=Kass                          \n",
      "correct=female   guess=male     name=Kathlin                       \n",
      "correct=female   guess=male     name=Katleen                       \n",
      "correct=female   guess=male     name=Kimberlyn                     \n",
      "correct=female   guess=male     name=Kirsten                       \n",
      "correct=female   guess=male     name=Koren                         \n",
      "correct=female   guess=male     name=Kris                          \n",
      "correct=female   guess=male     name=Kym                           \n",
      "correct=female   guess=male     name=Lark                          \n",
      "correct=female   guess=male     name=Linnet                        \n",
      "correct=female   guess=male     name=Lynnett                       \n",
      "correct=female   guess=male     name=Margo                         \n",
      "correct=female   guess=male     name=Mariann                       \n",
      "correct=female   guess=male     name=Marin                         \n",
      "correct=female   guess=male     name=Maris                         \n",
      "correct=female   guess=male     name=Maryann                       \n",
      "correct=female   guess=male     name=Marylin                       \n",
      "correct=female   guess=male     name=Marys                         \n",
      "correct=female   guess=male     name=Maud                          \n",
      "correct=female   guess=male     name=Maureen                       \n",
      "correct=female   guess=male     name=Mead                          \n",
      "correct=female   guess=male     name=Meg                           \n",
      "correct=female   guess=male     name=Megen                         \n",
      "correct=female   guess=male     name=Mignon                        \n",
      "correct=female   guess=male     name=Min                           \n",
      "correct=female   guess=male     name=Miran                         \n",
      "correct=female   guess=male     name=Muffin                        \n",
      "correct=female   guess=male     name=Norean                        \n",
      "correct=female   guess=male     name=Olwen                         \n",
      "correct=female   guess=male     name=Pam                           \n",
      "correct=female   guess=male     name=Pen                           \n",
      "correct=female   guess=male     name=Pet                           \n",
      "correct=female   guess=male     name=Phillis                       \n",
      "correct=female   guess=male     name=Phylis                        \n",
      "correct=female   guess=male     name=Phyllys                       \n",
      "correct=female   guess=male     name=Robyn                         \n",
      "correct=female   guess=male     name=Roselyn                       \n",
      "correct=female   guess=male     name=Rozalin                       \n",
      "correct=female   guess=male     name=Ruthann                       \n",
      "correct=female   guess=male     name=Shannen                       \n",
      "correct=female   guess=male     name=Shannon                       \n",
      "correct=female   guess=male     name=Shanon                        \n",
      "correct=female   guess=male     name=Sheilakathryn                 \n",
      "correct=female   guess=male     name=Sinead                        \n",
      "correct=female   guess=male     name=Suzann                        \n",
      "correct=female   guess=male     name=Teriann                       \n",
      "correct=female   guess=male     name=Tess                          \n",
      "correct=female   guess=male     name=Velvet                        \n",
      "correct=female   guess=male     name=Wren                          \n",
      "correct=female   guess=male     name=Wynn                          \n",
      "correct=female   guess=male     name=Yehudit                       \n",
      "correct=male     guess=female   name=Abby                          \n",
      "correct=male     guess=female   name=Abdel                         \n",
      "correct=male     guess=female   name=Abel                          \n",
      "correct=male     guess=female   name=Ace                           \n",
      "correct=male     guess=female   name=Ali                           \n",
      "correct=male     guess=female   name=Alphonse                      \n",
      "correct=male     guess=female   name=Amery                         \n",
      "correct=male     guess=female   name=Andie                         \n",
      "correct=male     guess=female   name=Angie                         \n",
      "correct=male     guess=female   name=Anthony                       \n",
      "correct=male     guess=female   name=Archy                         \n",
      "correct=male     guess=female   name=Aristotle                     \n",
      "correct=male     guess=female   name=Ash                           \n",
      "correct=male     guess=female   name=Aube                          \n",
      "correct=male     guess=female   name=Barde                         \n",
      "correct=male     guess=female   name=Barnabe                       \n",
      "correct=male     guess=female   name=Barnaby                       \n",
      "correct=male     guess=female   name=Barri                         \n",
      "correct=male     guess=female   name=Barrie                        \n",
      "correct=male     guess=female   name=Bartel                        \n",
      "correct=male     guess=female   name=Barthel                       \n",
      "correct=male     guess=female   name=Bartie                        \n",
      "correct=male     guess=female   name=Bartolomei                    \n",
      "correct=male     guess=female   name=Bealle                        \n",
      "correct=male     guess=female   name=Berkeley                      \n",
      "correct=male     guess=female   name=Berkley                       \n",
      "correct=male     guess=female   name=Billie                        \n",
      "correct=male     guess=female   name=Bjorne                        \n",
      "correct=male     guess=female   name=Brinkley                      \n",
      "correct=male     guess=female   name=Burl                          \n",
      "correct=male     guess=female   name=Carey                         \n",
      "correct=male     guess=female   name=Charlie                       \n",
      "correct=male     guess=female   name=Clarke                        \n",
      "correct=male     guess=female   name=Corky                         \n",
      "correct=male     guess=female   name=Cyril                         \n",
      "correct=male     guess=female   name=Danie                         \n",
      "correct=male     guess=female   name=Daniel                        \n",
      "correct=male     guess=female   name=Danny                         \n",
      "correct=male     guess=female   name=Darby                         \n",
      "correct=male     guess=female   name=Darrel                        \n",
      "correct=male     guess=female   name=Darrell                       \n",
      "correct=male     guess=female   name=Dickie                        \n",
      "correct=male     guess=female   name=Dmitri                        \n",
      "correct=male     guess=female   name=Dwaine                        \n",
      "correct=male     guess=female   name=Earle                         \n",
      "correct=male     guess=female   name=Eli                           \n",
      "correct=male     guess=female   name=Emanuel                       \n",
      "correct=male     guess=female   name=Emmery                        \n",
      "correct=male     guess=female   name=Eugene                        \n",
      "correct=male     guess=female   name=Finley                        \n",
      "correct=male     guess=female   name=Frederich                     \n",
      "correct=male     guess=female   name=Gabriele                      \n",
      "correct=male     guess=female   name=Gabriell                      \n",
      "correct=male     guess=female   name=Gavriel                       \n",
      "correct=male     guess=female   name=Gene                          \n",
      "correct=male     guess=female   name=Geoffrey                      \n",
      "correct=male     guess=female   name=Georgie                       \n",
      "correct=male     guess=female   name=Georgy                        \n",
      "correct=male     guess=female   name=Gerry                         \n",
      "correct=male     guess=female   name=Giorgi                        \n",
      "correct=male     guess=female   name=Giovanne                      \n",
      "correct=male     guess=female   name=Godfree                       \n",
      "correct=male     guess=female   name=Goose                         \n",
      "correct=male     guess=female   name=Hamel                         \n",
      "correct=male     guess=female   name=Herby                         \n",
      "correct=male     guess=female   name=Hercule                       \n",
      "correct=male     guess=female   name=Hewe                          \n",
      "correct=male     guess=female   name=Hezekiah                      \n",
      "correct=male     guess=female   name=Hirsch                        \n",
      "correct=male     guess=female   name=Humphrey                      \n",
      "correct=male     guess=female   name=Iggie                         \n",
      "correct=male     guess=female   name=Ikey                          \n",
      "correct=male     guess=female   name=Ira                           \n",
      "correct=male     guess=female   name=Jeremie                       \n",
      "correct=male     guess=female   name=Jerrie                        \n",
      "correct=male     guess=female   name=Jesse                         \n",
      "correct=male     guess=female   name=Jimmie                        \n",
      "correct=male     guess=female   name=Jorge                         \n",
      "correct=male     guess=female   name=Jude                          \n",
      "correct=male     guess=female   name=Keene                         \n",
      "correct=male     guess=female   name=Kenny                         \n",
      "correct=male     guess=female   name=Knox                          \n",
      "correct=male     guess=female   name=Kyle                          \n",
      "correct=male     guess=female   name=Laurence                      \n",
      "correct=male     guess=female   name=Lemuel                        \n",
      "correct=male     guess=female   name=Lesley                        \n",
      "correct=male     guess=female   name=Levy                          \n",
      "correct=male     guess=female   name=Linoel                        \n",
      "correct=male     guess=female   name=Lorrie                        \n",
      "correct=male     guess=female   name=Lowell                        \n",
      "correct=male     guess=female   name=Maurise                       \n",
      "correct=male     guess=female   name=Mendie                        \n",
      "correct=male     guess=female   name=Merril                        \n",
      "correct=male     guess=female   name=Mika                          \n",
      "correct=male     guess=female   name=Morlee                        \n",
      "correct=male     guess=female   name=Morrie                        \n",
      "correct=male     guess=female   name=Morty                         \n",
      "correct=male     guess=female   name=Mustafa                       \n",
      "correct=male     guess=female   name=Myke                          \n",
      "correct=male     guess=female   name=Neville                       \n",
      "correct=male     guess=female   name=Noble                         \n",
      "correct=male     guess=female   name=Odell                         \n",
      "correct=male     guess=female   name=Odie                          \n",
      "correct=male     guess=female   name=Ollie                         \n",
      "correct=male     guess=female   name=Osbourne                      \n",
      "correct=male     guess=female   name=Ossie                         \n",
      "correct=male     guess=female   name=Page                          \n",
      "correct=male     guess=female   name=Partha                        \n",
      "correct=male     guess=female   name=Patel                         \n",
      "correct=male     guess=female   name=Patsy                         \n",
      "correct=male     guess=female   name=Pearce                        \n",
      "correct=male     guess=female   name=Pennie                        \n",
      "correct=male     guess=female   name=Perry                         \n",
      "correct=male     guess=female   name=Petey                         \n",
      "correct=male     guess=female   name=Radcliffe                     \n",
      "correct=male     guess=female   name=Rey                           \n",
      "correct=male     guess=female   name=Rice                          \n",
      "correct=male     guess=female   name=Rich                          \n",
      "correct=male     guess=female   name=Ricky                         \n",
      "correct=male     guess=female   name=Roderich                      \n",
      "correct=male     guess=female   name=Rodge                         \n",
      "correct=male     guess=female   name=Rory                          \n",
      "correct=male     guess=female   name=Roy                           \n",
      "correct=male     guess=female   name=See                           \n",
      "correct=male     guess=female   name=Sherlocke                     \n",
      "correct=male     guess=female   name=Shurlocke                     \n",
      "correct=male     guess=female   name=Skelly                        \n",
      "correct=male     guess=female   name=Stevie                        \n",
      "correct=male     guess=female   name=Tally                         \n",
      "correct=male     guess=female   name=Tate                          \n",
      "correct=male     guess=female   name=Terrill                       \n",
      "correct=male     guess=female   name=Tobie                         \n",
      "correct=male     guess=female   name=Toby                          \n",
      "correct=male     guess=female   name=Towney                        \n",
      "correct=male     guess=female   name=Tuckie                        \n",
      "correct=male     guess=female   name=Tully                         \n",
      "correct=male     guess=female   name=Ulrich                        \n",
      "correct=male     guess=female   name=Uri                           \n",
      "correct=male     guess=female   name=Vale                          \n",
      "correct=male     guess=female   name=Verge                         \n",
      "correct=male     guess=female   name=Waite                         \n",
      "correct=male     guess=female   name=Wash                          \n",
      "correct=male     guess=female   name=Westley                       \n",
      "correct=male     guess=female   name=Whitney                       \n",
      "correct=male     guess=female   name=Willy                         \n",
      "correct=male     guess=female   name=Wylie                         \n",
      "correct=male     guess=female   name=Yule                          \n",
      "correct=male     guess=female   name=Zeke                          \n"
     ]
    }
   ],
   "source": [
    "for (tag, guess, name) in sorted(errors):\n",
    "    print('correct={:<8} guess={:<8s} name={:<30}'.format(tag, guess, name))"
   ]
  },
  {
   "cell_type": "code",
   "execution_count": 17,
   "metadata": {},
   "outputs": [],
   "source": [
    "def gender_features(word):\n",
    "    return {'suffix1': word[-1:],\n",
    "             'suffix2': word[-2:]}"
   ]
  },
  {
   "cell_type": "code",
   "execution_count": 18,
   "metadata": {},
   "outputs": [
    {
     "name": "stdout",
     "output_type": "stream",
     "text": [
      "0.782\n"
     ]
    }
   ],
   "source": [
    "train_set = [(gender_features(n), gender) for (n, gender) in train_names]\n",
    "devtest_set = [(gender_features(n), gender) for (n, gender) in devtest_names]\n",
    "classifier = nltk.NaiveBayesClassifier.train(train_set)\n",
    "print(nltk.classify.accuracy(classifier, devtest_set))"
   ]
  },
  {
   "cell_type": "code",
   "execution_count": null,
   "metadata": {},
   "outputs": [],
   "source": []
  }
 ],
 "metadata": {
  "kernelspec": {
   "display_name": "Python 3",
   "language": "python",
   "name": "python3"
  },
  "language_info": {
   "codemirror_mode": {
    "name": "ipython",
    "version": 3
   },
   "file_extension": ".py",
   "mimetype": "text/x-python",
   "name": "python",
   "nbconvert_exporter": "python",
   "pygments_lexer": "ipython3",
   "version": "3.7.1"
  }
 },
 "nbformat": 4,
 "nbformat_minor": 2
}
