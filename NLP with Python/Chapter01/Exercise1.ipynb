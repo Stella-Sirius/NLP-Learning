{
 "cells": [
  {
   "cell_type": "code",
   "execution_count": 4,
   "metadata": {},
   "outputs": [
    {
     "name": "stdout",
     "output_type": "stream",
     "text": [
      "*** Introductory Examples for the NLTK Book ***\n",
      "Loading text1, ..., text9 and sent1, ..., sent9\n",
      "Type the name of the text or sentence to view it.\n",
      "Type: 'texts()' or 'sents()' to list the materials.\n",
      "text1: Moby Dick by Herman Melville 1851\n",
      "text2: Sense and Sensibility by Jane Austen 1811\n",
      "text3: The Book of Genesis\n",
      "text4: Inaugural Address Corpus\n",
      "text5: Chat Corpus\n",
      "text6: Monty Python and the Holy Grail\n",
      "text7: Wall Street Journal\n",
      "text8: Personals Corpus\n",
      "text9: The Man Who Was Thursday by G . K . Chesterton 1908\n"
     ]
    }
   ],
   "source": [
    "from nltk.book import *\n"
   ]
  },
  {
   "cell_type": "code",
   "execution_count": 5,
   "metadata": {},
   "outputs": [
    {
     "data": {
      "text/plain": [
       "2.4"
      ]
     },
     "execution_count": 5,
     "metadata": {},
     "output_type": "execute_result"
    }
   ],
   "source": [
    "#Try using the Python interpreter as a calculator, and typing expressions like\n",
    "from __future__ import division\n",
    "12/(4+1)"
   ]
  },
  {
   "cell_type": "code",
   "execution_count": 6,
   "metadata": {},
   "outputs": [
    {
     "data": {
      "text/plain": [
       "3142930641582938830174357788501626427282669988762475256374173175398995908420104023465432599069702289330964075081611719197835869803511992549376"
      ]
     },
     "execution_count": 6,
     "metadata": {},
     "output_type": "execute_result"
    }
   ],
   "source": [
    "#Given an alphabet of 26 letters, there are 26 to the power 10, or 26 ** 10, 10-letter strings we can form. That works out to 141167095653376L (the L at the end\n",
    "#just indicates that this is Python’s long-number format). How many hundred-letter strings are possible?\n",
    "26**100"
   ]
  },
  {
   "cell_type": "code",
   "execution_count": 8,
   "metadata": {},
   "outputs": [
    {
     "data": {
      "text/plain": [
       "['Call',\n",
       " 'me',\n",
       " 'Ishmael',\n",
       " '.',\n",
       " 'Call',\n",
       " 'me',\n",
       " 'Ishmael',\n",
       " '.',\n",
       " 'Call',\n",
       " 'me',\n",
       " 'Ishmael',\n",
       " '.']"
      ]
     },
     "execution_count": 8,
     "metadata": {},
     "output_type": "execute_result"
    }
   ],
   "source": [
    "#The Python multiplication operation can be applied to lists. What happens when you type ['Monty', 'Python'] * 20, or 3 * sent1?\n",
    "['Monty', 'Python'] * 20\n",
    "3 * sent1"
   ]
  },
  {
   "cell_type": "code",
   "execution_count": 9,
   "metadata": {},
   "outputs": [
    {
     "data": {
      "text/plain": [
       "141576"
      ]
     },
     "execution_count": 9,
     "metadata": {},
     "output_type": "execute_result"
    }
   ],
   "source": [
    "#Review Section 1.1 on computing with language. How many words are there in text2? How many distinct words are there?\n",
    "len(text2)"
   ]
  },
  {
   "cell_type": "code",
   "execution_count": 10,
   "metadata": {},
   "outputs": [
    {
     "data": {
      "text/plain": [
       "6833"
      ]
     },
     "execution_count": 10,
     "metadata": {},
     "output_type": "execute_result"
    }
   ],
   "source": [
    "len(set(text2))"
   ]
  },
  {
   "cell_type": "code",
   "execution_count": null,
   "metadata": {},
   "outputs": [],
   "source": [
    "#Compare the lexical diversity scores for humor and romance fiction in Table 1-1. Which genre is more lexically diverse?\n",
    "len(text) / len(set(text))"
   ]
  },
  {
   "cell_type": "code",
   "execution_count": 11,
   "metadata": {},
   "outputs": [
    {
     "data": {
      "image/png": "[encoded data removed]",
      "text/plain": [
       "<Figure size 432x288 with 1 Axes>"
      ]
     },
     "metadata": {
      "needs_background": "light"
     },
     "output_type": "display_data"
    }
   ],
   "source": [
    "#Produce a dispersion plot of the four main protagonists in Sense and Sensibility:Elinor, Marianne, Edward, and Willoughby. What can you observe about the\n",
    "#different roles played by the males and females in this novel? Can you identify the couples?\n",
    "text2.dispersion_plot([\"Elinor\", \"Marianne\", \"Edward\", \"Willoughby\"])"
   ]
  },
  {
   "cell_type": "code",
   "execution_count": 12,
   "metadata": {},
   "outputs": [
    {
     "name": "stdout",
     "output_type": "stream",
     "text": [
      "wanna chat; PART JOIN; MODE #14-19teens; JOIN PART; PART PART; cute.-ass MP3; MP3 player; JOIN JOIN; times .. .; ACTION watches; guys wanna; song lasts; last night; ACTION sits; -...)...- S.M.R.; Lime Player; Player 12%; dont know; lez gurls; long time\n"
     ]
    }
   ],
   "source": [
    "#Find the collocations in text5.\n",
    "print('; '.join(text5.collocation_list()))"
   ]
  },
  {
   "cell_type": "code",
   "execution_count": 13,
   "metadata": {},
   "outputs": [
    {
     "data": {
      "text/plain": [
       "'My StringMy String'"
      ]
     },
     "execution_count": 13,
     "metadata": {},
     "output_type": "execute_result"
    }
   ],
   "source": [
    "#Define a string and assign it to a variable, e.g., my_string = 'My String' (but put something more interesting in the string). Print the contents of this variable\n",
    "#in two ways, first by simply typing the variable name and pressing Enter, then by using the print statement.\n",
    "my_string = 'My String' \n",
    "my_string + my_string"
   ]
  },
  {
   "cell_type": "code",
   "execution_count": 15,
   "metadata": {},
   "outputs": [
    {
     "data": {
      "text/plain": [
       "'My StringMy StringMy String'"
      ]
     },
     "execution_count": 15,
     "metadata": {},
     "output_type": "execute_result"
    }
   ],
   "source": [
    "my_string *3"
   ]
  },
  {
   "cell_type": "code",
   "execution_count": 16,
   "metadata": {},
   "outputs": [
    {
     "data": {
      "text/plain": [
       "'My sent'"
      ]
     },
     "execution_count": 16,
     "metadata": {},
     "output_type": "execute_result"
    }
   ],
   "source": [
    "my_sent = [\"My\",\"sent\"]\n",
    "' '.join(my_sent)"
   ]
  },
  {
   "cell_type": "code",
   "execution_count": 17,
   "metadata": {},
   "outputs": [
    {
     "data": {
      "text/plain": [
       "['My', 'sent']"
      ]
     },
     "execution_count": 17,
     "metadata": {},
     "output_type": "execute_result"
    }
   ],
   "source": [
    "'My sent'.split()"
   ]
  },
  {
   "cell_type": "code",
   "execution_count": 18,
   "metadata": {},
   "outputs": [
    {
     "data": {
      "text/plain": [
       "'h'"
      ]
     },
     "execution_count": 18,
     "metadata": {},
     "output_type": "execute_result"
    }
   ],
   "source": [
    "sent1[2][2]"
   ]
  },
  {
   "cell_type": "code",
   "execution_count": 19,
   "metadata": {},
   "outputs": [
    {
     "data": {
      "text/plain": [
       "1"
      ]
     },
     "execution_count": 19,
     "metadata": {},
     "output_type": "execute_result"
    }
   ],
   "source": [
    "#The first sentence of text3 is provided to you in the variable sent3. The index of\n",
    "#the in sent3 is 1, because sent3[1] gives us 'the'. What are the indexes of the two\n",
    "#other occurrences of this word in sent3?\n",
    "sent3.index('the')"
   ]
  },
  {
   "cell_type": "code",
   "execution_count": null,
   "metadata": {},
   "outputs": [],
   "source": [
    "#Review the discussion of conditionals in Section 1.4. Find all words in the Chat \n",
    "#Corpus (text5) starting with the letter b. Show them in alphabetical order.\n",
    "sorted([w for w in set(text5) if w.startswith('b')])"
   ]
  },
  {
   "cell_type": "code",
   "execution_count": 24,
   "metadata": {},
   "outputs": [
    {
     "data": {
      "text/plain": [
       "range(0, 10)"
      ]
     },
     "execution_count": 24,
     "metadata": {},
     "output_type": "execute_result"
    }
   ],
   "source": [
    "#Type the expression range(10) at the interpreter prompt. Now try range(10,20), range(10, 20, 2), and range(20, 10, -2). We will see a variety of uses for this\n",
    "#built-in function in later chapters.\n",
    "range(10)"
   ]
  },
  {
   "cell_type": "code",
   "execution_count": 30,
   "metadata": {},
   "outputs": [
    {
     "data": {
      "text/plain": [
       "629"
      ]
     },
     "execution_count": 30,
     "metadata": {},
     "output_type": "execute_result"
    }
   ],
   "source": [
    "#Use text9.index() to find the index of the word sunset. You’ll need to insert this\n",
    "#word as an argument between the parentheses. By a process of trial and error, find\n",
    "#the slice for the complete sentence that contains this word.\n",
    "text9.index('sunset')"
   ]
  },
  {
   "cell_type": "code",
   "execution_count": 31,
   "metadata": {},
   "outputs": [
    {
     "data": {
      "text/plain": [
       "['!',\n",
       " ',',\n",
       " '-',\n",
       " '.',\n",
       " '1',\n",
       " '25',\n",
       " '29',\n",
       " '61',\n",
       " ':',\n",
       " 'ARTHUR',\n",
       " 'Call',\n",
       " 'Citizens',\n",
       " 'Dashwood',\n",
       " 'Fellow',\n",
       " 'God',\n",
       " 'House',\n",
       " 'I',\n",
       " 'In',\n",
       " 'Ishmael',\n",
       " 'JOIN',\n",
       " 'KING',\n",
       " 'MALE',\n",
       " 'Nov.',\n",
       " 'PMing',\n",
       " 'Pierre',\n",
       " 'Representatives',\n",
       " 'SCENE',\n",
       " 'SEXY',\n",
       " 'Senate',\n",
       " 'Sussex',\n",
       " 'The',\n",
       " 'Vinken',\n",
       " 'Whoa',\n",
       " '[',\n",
       " ']',\n",
       " 'a',\n",
       " 'and',\n",
       " 'as',\n",
       " 'attrac',\n",
       " 'been',\n",
       " 'beginning',\n",
       " 'board',\n",
       " 'clop',\n",
       " 'created',\n",
       " 'director',\n",
       " 'discreet',\n",
       " 'earth',\n",
       " 'encounters',\n",
       " 'family',\n",
       " 'for',\n",
       " 'had',\n",
       " 'have',\n",
       " 'heaven',\n",
       " 'in',\n",
       " 'join',\n",
       " 'lady',\n",
       " 'lol',\n",
       " 'long',\n",
       " 'me',\n",
       " 'nonexecutive',\n",
       " 'of',\n",
       " 'old',\n",
       " 'older',\n",
       " 'people',\n",
       " 'problem',\n",
       " 'seeks',\n",
       " 'settled',\n",
       " 'single',\n",
       " 'the',\n",
       " 'there',\n",
       " 'to',\n",
       " 'will',\n",
       " 'wind',\n",
       " 'with',\n",
       " 'years']"
      ]
     },
     "execution_count": 31,
     "metadata": {},
     "output_type": "execute_result"
    }
   ],
   "source": [
    "#Using list addition, and the set and sorted operations, compute the vocabulary of the sentences sent1 ... sent8\n",
    "sorted(set(sent1+sent2+sent3+sent4+sent5+sent6+sent7+sent8))"
   ]
  },
  {
   "cell_type": "code",
   "execution_count": null,
   "metadata": {},
   "outputs": [],
   "source": [
    "#What is the difference between the following two lines? Which one will give a\n",
    "#larger value? Will this be the case for other texts?\n",
    "sorted(set([w.lower() for w in text1]))"
   ]
  },
  {
   "cell_type": "code",
   "execution_count": null,
   "metadata": {},
   "outputs": [],
   "source": [
    "sorted([w.lower() for w in set(text1)])"
   ]
  },
  {
   "cell_type": "code",
   "execution_count": 34,
   "metadata": {},
   "outputs": [
    {
     "data": {
      "text/plain": [
       "['THE', 'END']"
      ]
     },
     "execution_count": 34,
     "metadata": {},
     "output_type": "execute_result"
    }
   ],
   "source": [
    "#Write the slice expression that extracts the last two words of text2.\n",
    "text2[-2:]"
   ]
  },
  {
   "cell_type": "code",
   "execution_count": null,
   "metadata": {},
   "outputs": [],
   "source": [
    "#Find all the four-letter words in the Chat Corpus (text5). With the help of a\n",
    "#frequency distribution (FreqDist), show these words in decreasing order of frequency.\n",
    "fdist5 = FreqDist(text5)\n",
    "sorted([w for w in set(text5) if len(w) ==4])"
   ]
  },
  {
   "cell_type": "code",
   "execution_count": 37,
   "metadata": {},
   "outputs": [
    {
     "data": {
      "text/plain": [
       "['INSPECTOR',\n",
       " 'PRINCE',\n",
       " 'CART',\n",
       " 'ROGER',\n",
       " 'MIDGET',\n",
       " 'NARRATOR',\n",
       " 'ROBIN',\n",
       " 'PERSON',\n",
       " 'PIGLET',\n",
       " 'WIFE',\n",
       " 'SOLDIER',\n",
       " 'VILLAGERS',\n",
       " 'CAMERAMAN',\n",
       " 'KING',\n",
       " 'BEDEVERE',\n",
       " 'GUARD',\n",
       " 'PATSY',\n",
       " 'TIM',\n",
       " 'THE',\n",
       " 'LUCKY',\n",
       " 'WOMAN',\n",
       " 'SHRUBBER',\n",
       " 'HISTORIAN',\n",
       " 'OFFICER',\n",
       " 'PARTY',\n",
       " 'CRASH',\n",
       " 'CUSTOMER',\n",
       " 'U',\n",
       " 'RIGHT',\n",
       " 'CARTOON',\n",
       " 'GREEN',\n",
       " 'KNIGHT',\n",
       " 'SCENE',\n",
       " 'WITCH',\n",
       " 'GOD',\n",
       " 'VOICE',\n",
       " 'HERBERT',\n",
       " 'BORS',\n",
       " 'OTHER',\n",
       " 'DENNIS',\n",
       " 'KNIGHTS',\n",
       " 'GUARDS',\n",
       " 'ANIMATOR',\n",
       " 'NI',\n",
       " 'WINSTON',\n",
       " 'GUESTS',\n",
       " 'FRENCH',\n",
       " 'S',\n",
       " 'CRONE',\n",
       " 'MIDDLE',\n",
       " 'BRIDE',\n",
       " 'Y',\n",
       " 'CROWD',\n",
       " 'LOVELY',\n",
       " 'OF',\n",
       " 'C',\n",
       " 'B',\n",
       " 'BROTHER',\n",
       " 'ZOOT',\n",
       " 'LEFT',\n",
       " 'ALL',\n",
       " 'PRISONER',\n",
       " 'CRAPPER',\n",
       " 'MAYNARD',\n",
       " 'SIR',\n",
       " 'CHARACTERS',\n",
       " 'N',\n",
       " 'GALAHAD',\n",
       " 'MAN',\n",
       " 'ARTHUR',\n",
       " 'GUEST',\n",
       " 'AMAZING',\n",
       " 'DINGO',\n",
       " 'DEAD',\n",
       " 'MASTER',\n",
       " 'O',\n",
       " 'ARMY',\n",
       " 'I',\n",
       " 'CONCORDE',\n",
       " 'DIRECTOR',\n",
       " 'HEAD',\n",
       " 'MONKS',\n",
       " 'SENTRY',\n",
       " 'VILLAGER',\n",
       " 'GIRLS',\n",
       " 'PRINCESS',\n",
       " 'MINSTREL',\n",
       " 'BRIDGEKEEPER',\n",
       " 'STUNNER',\n",
       " 'FATHER',\n",
       " 'SECOND',\n",
       " 'SUN',\n",
       " 'OLD',\n",
       " 'HEADS',\n",
       " 'ENCHANTER',\n",
       " 'CHARACTER',\n",
       " 'A',\n",
       " 'LAUNCELOT',\n",
       " 'BLACK',\n",
       " 'W',\n",
       " 'RANDOM']"
      ]
     },
     "execution_count": 37,
     "metadata": {},
     "output_type": "execute_result"
    }
   ],
   "source": [
    "#Review the discussion of looping with conditions in Section 1.4. Use a combination\n",
    "#of for and if statements to loop over the words of the movie script for\n",
    "#Monty Python and the Holy Grail (text6) and print all the uppercase words, one per line.\n",
    "[s for s in set(text6) if s.isupper()]"
   ]
  },
  {
   "cell_type": "code",
   "execution_count": 39,
   "metadata": {},
   "outputs": [
    {
     "data": {
      "text/plain": [
       "[]"
      ]
     },
     "execution_count": 39,
     "metadata": {},
     "output_type": "execute_result"
    }
   ],
   "source": [
    "#Write expressions for finding all words in text6 that meet the following conditions.\n",
    "#The result should be in the form of a list of wordsa. \n",
    "#a.Ending in ize\n",
    "[s for s in set(text6) if s.endswith(\"ize\")]"
   ]
  },
  {
   "cell_type": "code",
   "execution_count": 40,
   "metadata": {},
   "outputs": [
    {
     "data": {
      "text/plain": [
       "['amazes', 'frozen', 'zoosh', 'zoop', 'zone', 'zoo', 'Fetchez', 'zhiv']"
      ]
     },
     "execution_count": 40,
     "metadata": {},
     "output_type": "execute_result"
    }
   ],
   "source": [
    "#b. Containing the letter z\n",
    "[s for s in set(text6) if 'z' in s]"
   ]
  },
  {
   "cell_type": "code",
   "execution_count": 41,
   "metadata": {},
   "outputs": [
    {
     "data": {
      "text/plain": [
       "['Thpppppt',\n",
       " 'excepting',\n",
       " 'Thpppt',\n",
       " 'empty',\n",
       " 'ptoo',\n",
       " 'temptation',\n",
       " 'Thppppt',\n",
       " 'temptress',\n",
       " 'Thppt',\n",
       " 'Chapter',\n",
       " 'aptly']"
      ]
     },
     "execution_count": 41,
     "metadata": {},
     "output_type": "execute_result"
    }
   ],
   "source": [
    "#c. Containing the sequence of letters pt\n",
    "[s for s in set(text6) if 'pt' in s]"
   ]
  },
  {
   "cell_type": "code",
   "execution_count": null,
   "metadata": {},
   "outputs": [],
   "source": [
    "#d. All lowercase letters except for an initial capital (i.e., titlecase): ['word1', 'word2', ...].\n",
    "[s for s in set(text6) if s.istitle()]"
   ]
  },
  {
   "cell_type": "code",
   "execution_count": 43,
   "metadata": {},
   "outputs": [],
   "source": [
    "#Define a function called vocab_size(text) that has a single parameter for the\n",
    "#text, and which returns the vocabulary size of the text.\n",
    "def vocab_size(text):\n",
    "    return len(text)"
   ]
  },
  {
   "cell_type": "code",
   "execution_count": 44,
   "metadata": {},
   "outputs": [],
   "source": [
    "#Define a function percent(word, text) that calculates how often a given word\n",
    "#occurs in a text and expresses the result as a percentage.\n",
    "def percent(word, text):\n",
    "    return text.count(word)/len(text)"
   ]
  }
 ],
 "metadata": {
  "kernelspec": {
   "display_name": "Python 3",
   "language": "python",
   "name": "python3"
  },
  "language_info": {
   "codemirror_mode": {
    "name": "ipython",
    "version": 3
   },
   "file_extension": ".py",
   "mimetype": "text/x-python",
   "name": "python",
   "nbconvert_exporter": "python",
   "pygments_lexer": "ipython3",
   "version": "3.7.1"
  }
 },
 "nbformat": 4,
 "nbformat_minor": 2
}
